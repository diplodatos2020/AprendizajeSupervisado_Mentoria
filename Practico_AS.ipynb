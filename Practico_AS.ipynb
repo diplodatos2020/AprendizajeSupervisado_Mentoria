{
 "cells": [
  {
   "cell_type": "markdown",
   "metadata": {},
   "source": [
    "# **Practico Mentoria - Aprendizaje Supervisado**"
   ]
  },
  {
   "cell_type": "markdown",
   "metadata": {},
   "source": [
    "Se propone la elaboración de un informe o presentación, en formato estatico:\n",
    "* PDF\n",
    "* Markdowns\n",
    "* Google Docs\n",
    "\n",
    "Que responda a las cuestiones solicitadas en cada seccion de esta **Jupyter Notebook**.\n",
    "\n",
    "La comunicación debe estar apuntada a un público técnico pero sin conocimiento del tema particular, como por ejemplo, sus compañeros de clase.  \n",
    "Por lo cual debe estar redactado de forma consisa y comprensible."
   ]
  },
  {
   "cell_type": "markdown",
   "metadata": {},
   "source": [
    "## **Referencias**\n",
    "\n",
    "* https://relopezbriega.github.io/blog/2016/09/26/series-de-tiempo-con-python/\n",
    "* https://www.analyticslane.com/2018/08/15/manipulacion-series-temporales-con-pandas/\n",
    "* http://www.escuela-verano.otrasenda.org/wp-content/uploads/2015/06/curso_series.pdf\n",
    "* https://medium.com/datos-y-ciencia/modelos-de-series-de-tiempo-en-python-f861a25b9677"
   ]
  },
  {
   "cell_type": "code",
   "execution_count": null,
   "metadata": {},
   "outputs": [],
   "source": [
    "import numpy as np\n",
    "import pandas as pd\n",
    "import matplotlib.pyplot as plt\n",
    "import seaborn as sns\n",
    "import datetime\n",
    "import statsmodels.api as sm\n",
    "\n",
    "from scipy import stats\n",
    "\n",
    "import warnings\n",
    "warnings.filterwarnings('ignore')"
   ]
  },
  {
   "cell_type": "code",
   "execution_count": null,
   "metadata": {},
   "outputs": [],
   "source": [
    "sns.set_style('whitegrid')\n",
    "sns.set(rc={'figure.figsize':(15, 5)})"
   ]
  },
  {
   "cell_type": "code",
   "execution_count": null,
   "metadata": {},
   "outputs": [],
   "source": [
    "filename = \"../Introduccion_Mentoria/dataset_inf_telec_20200501T130000_20200727T010000_v1.csv\""
   ]
  },
  {
   "cell_type": "code",
   "execution_count": null,
   "metadata": {},
   "outputs": [],
   "source": [
    "df = pd.read_csv(\n",
    "    filename,\n",
    "    dtype={\n",
    "        'ID_EQUIPO': int,\n",
    "        'PUNTO_MEDICION': str,\n",
    "        'CAPACIDAD_MAXIMA_GBS': float,\n",
    "        'PASO': int,\n",
    "        'LATENCIA_MS': float,\n",
    "        'PORCENTAJE_PACK_LOSS': float,\n",
    "        'INBOUND_BITS': np.float64,\n",
    "        'OUTBOUND_BITS': np.float64,\n",
    "        'MEDIDA': str,\n",
    "    },\n",
    "    index_col='FECHA_HORA',\n",
    "    parse_dates=[\n",
    "        'FECHA_INICIO_MEDICION',\n",
    "        'FECHA_HORA',\n",
    "        'FECHA_FIN_MEDICION',\n",
    "    ],\n",
    "    na_values=['NaN']\n",
    ")\n",
    "\n",
    "print(df.shape)\n",
    "display(df.head(10))"
   ]
  },
  {
   "cell_type": "code",
   "execution_count": null,
   "metadata": {},
   "outputs": [],
   "source": [
    "print(df.index.min())\n",
    "\n",
    "print(df.index.max())"
   ]
  },
  {
   "cell_type": "markdown",
   "metadata": {},
   "source": [
    "---"
   ]
  },
  {
   "cell_type": "markdown",
   "metadata": {},
   "source": [
    "## **Basic Time Series Forecasting**\n",
    "\n",
    "En este practico aplicaremos métodos básicos de forecasting.\n",
    "\n",
    "Elija algun `PUNTO_MEDICION`, por ejemplo **BAZ - Yocsina**.\n",
    "\n",
    "Vamos a hacer forecasting sobre la variable `INBOUND_BITS` de dicho punto de medición."
   ]
  },
  {
   "cell_type": "code",
   "execution_count": null,
   "metadata": {},
   "outputs": [],
   "source": [
    "df = df.loc['2020-07-01 00:00:00':]"
   ]
  },
  {
   "cell_type": "code",
   "execution_count": null,
   "metadata": {},
   "outputs": [],
   "source": [
    "df = df[df.PUNTO_MEDICION == 'BAZ - Yocsina']\n",
    "df = df[['INBOUND_BITS']]\n",
    "\n",
    "print(df.shape)\n",
    "df"
   ]
  },
  {
   "cell_type": "code",
   "execution_count": null,
   "metadata": {},
   "outputs": [],
   "source": [
    "df.index = df.index.to_period(freq='H')"
   ]
  },
  {
   "cell_type": "markdown",
   "metadata": {},
   "source": [
    "Para el modelado de series de tiempo univariadas, es mejor trabajar con un Pandas Series en lugar de un Dataframe"
   ]
  },
  {
   "cell_type": "code",
   "execution_count": null,
   "metadata": {},
   "outputs": [],
   "source": [
    "y = df['INBOUND_BITS']"
   ]
  },
  {
   "cell_type": "markdown",
   "metadata": {},
   "source": [
    "#### **Análisis exploratorio de datos**\n",
    "\n",
    "Plotear el grafico de la serie de tiempo."
   ]
  },
  {
   "cell_type": "code",
   "execution_count": null,
   "metadata": {},
   "outputs": [],
   "source": [
    "# TODO"
   ]
  },
  {
   "cell_type": "markdown",
   "metadata": {},
   "source": [
    "#### **Random Walk**\n",
    "\n",
    "Usaremos el método Random Walk para ilustrar el proceso que seguiremos para generar forecast.\n",
    "\n",
    "https://medium.com/analytics-vidhya/time-series-forecasting-with-random-walk-58e84c93058b\n",
    "\n",
    "Para la predicción (forecast) de un valor, se usa la última observación de la serie temporal:\n",
    "\n",
    "$$\n",
    "\\hat{y}_{t + h} = y_{t}\n",
    "$$\n",
    "\n",
    "1. Especificamos el **horizon (h)** para el forecast.\n",
    "2. Creamos un rango de periodos empezando por el periodo siguiente al de la ultima observacion del dataset.\n",
    "3. Generamos las predicciones y las guardamos en el rango de periodos creado anteriormente.\n",
    "\n",
    "A continuación, generamos pronósticos puntuales para 10 horas después del final de la serie."
   ]
  },
  {
   "cell_type": "code",
   "execution_count": null,
   "metadata": {},
   "outputs": [],
   "source": [
    "# TODO"
   ]
  },
  {
   "cell_type": "markdown",
   "metadata": {},
   "source": [
    "#### **EXTRA: Seasonal Random Walk**\n",
    "\n",
    "https://machinelearningmastery.com/gentle-introduction-random-walk-times-series-forecasting-python/\n",
    "\n",
    "Si la serie presenta comportamientos estacionales, en lugar de usar la ultima observacion, usamos el ultimo valor correspondiente a la misma \"estacion\" actual:\n",
    "\n",
    "$$\n",
    "\\hat{y}_{t + h} = y_{t + h - km}\n",
    "$$\n",
    "\n",
    "Donde:\n",
    "* $m$ representa la longitud de la estacion\n",
    "* $k$ es el \"salto\" a la estacion correspondiente:\n",
    "\n",
    "$$\n",
    "k = \\floor{\\frac{h - 1}{m + 1}}\n",
    "$$"
   ]
  },
  {
   "cell_type": "code",
   "execution_count": null,
   "metadata": {},
   "outputs": [],
   "source": [
    "# TODO (OPTIONAL)"
   ]
  },
  {
   "cell_type": "markdown",
   "metadata": {},
   "source": [
    "---"
   ]
  },
  {
   "cell_type": "markdown",
   "metadata": {},
   "source": [
    "#### **Exponential Smoothing**\n",
    "\n",
    "* https://en.wikipedia.org/wiki/Exponential_smoothing\n",
    "* https://machinelearningmastery.com/exponential-smoothing-for-time-series-forecasting-in-python/\n",
    "\n",
    "En el modelo de Exponential Smoothing, las predicciones son promedios pesados de observaciones pasadas, donde los pesos decaen exponencialmente cuando nos movemos al pasado:\n",
    "$$\n",
    "\\hat{y}_{t + 1} = l_t \\\\\n",
    "l_t = \\alpha y_t + (1 - \\alpha) l_{t - 1}\n",
    "$$\n",
    "\n",
    "Donde:\n",
    "\n",
    "Asumimos que:\n",
    "* $l_0$ está dado\n",
    "* 0 $< \\alpha <$ 1\n",
    "\n",
    "El método se suele usar cuando los datos no tienen patrones de tendencia ni estacional claros."
   ]
  },
  {
   "cell_type": "code",
   "execution_count": null,
   "metadata": {},
   "outputs": [],
   "source": [
    "# TODO"
   ]
  },
  {
   "cell_type": "code",
   "execution_count": null,
   "metadata": {},
   "outputs": [],
   "source": []
  }
 ],
 "metadata": {
  "kernelspec": {
   "display_name": "Python 3",
   "language": "python",
   "name": "python3"
  },
  "language_info": {
   "codemirror_mode": {
    "name": "ipython",
    "version": 3
   },
   "file_extension": ".py",
   "mimetype": "text/x-python",
   "name": "python",
   "nbconvert_exporter": "python",
   "pygments_lexer": "ipython3",
   "version": "3.6.10"
  }
 },
 "nbformat": 4,
 "nbformat_minor": 4
}
